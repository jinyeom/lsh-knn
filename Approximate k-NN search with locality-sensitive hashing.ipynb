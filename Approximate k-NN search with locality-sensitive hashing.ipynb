{
 "cells": [
  {
   "cell_type": "markdown",
   "metadata": {},
   "source": [
    "# Approximate k-NN search with locality-sensitive hashing"
   ]
  },
  {
   "cell_type": "code",
   "execution_count": 1,
   "metadata": {},
   "outputs": [],
   "source": [
    "import numpy as np"
   ]
  },
  {
   "cell_type": "code",
   "execution_count": 2,
   "metadata": {},
   "outputs": [],
   "source": [
    "rs = np.random.default_rng(0)"
   ]
  },
  {
   "cell_type": "code",
   "execution_count": 3,
   "metadata": {},
   "outputs": [],
   "source": [
    "m = 1000  # number of data points in the\n",
    "n = 16    # number of features in each data point"
   ]
  },
  {
   "cell_type": "code",
   "execution_count": 4,
   "metadata": {},
   "outputs": [],
   "source": [
    "X = rs.normal(size=(m, n))  # random dataset\n",
    "q = rs.normal(size=n)       # query vector"
   ]
  },
  {
   "cell_type": "markdown",
   "metadata": {},
   "source": [
    "## Vanilla k-NN search"
   ]
  },
  {
   "cell_type": "code",
   "execution_count": 5,
   "metadata": {},
   "outputs": [],
   "source": [
    "def knn_search(query, data, k=5):\n",
    "    assert k <= len(data)\n",
    "    dists = np.sqrt(np.sum((data - query) ** 2, axis=1)) # euclidean distance\n",
    "    inds = np.argsort(dists)                             # sorted in ascending order\n",
    "    inds_k = inds[:k]                                    # top k closest data points\n",
    "    # NOTE: optionally, if the argumet dataset has a set of labels, we can also\n",
    "    # associate the query vector with a label (i.e., classification).\n",
    "    return data[inds_k], dists[inds_k]"
   ]
  },
  {
   "cell_type": "code",
   "execution_count": 6,
   "metadata": {
    "scrolled": true
   },
   "outputs": [
    {
     "name": "stdout",
     "output_type": "stream",
     "text": [
      "query = [ 0.74597801  0.10798961  0.96640122  0.15459683 -0.52637468  1.29406665\n",
      "  0.15440615 -0.16837241 -1.25924732 -0.29044147 -1.6855752  -1.01036298\n",
      " -0.05422822 -0.90894185 -0.83150002 -1.18530497]\n",
      "\n",
      "top 1:\n",
      "neighbor = [ 0.79580696 -0.66135363  0.06473675  1.00379453 -0.4779662  -0.08503506\n",
      " -0.50306338  0.22048967 -0.2966549   0.16166078 -1.55502652 -0.52165985\n",
      " -0.95881421 -0.24767401 -1.38765319  0.44639838]\n",
      "dist = 3.198502734555067\n",
      "\n",
      "top 2:\n",
      "neighbor = [ 0.17507704 -0.46295949  0.21952077 -0.25228969  0.60720812  1.05960923\n",
      " -0.65088179  0.6286331  -0.91197297  0.71001593 -0.8652757   0.34580728\n",
      " -0.72779903 -1.01855172  0.39106477 -0.23056385]\n",
      "dist = 3.2410639159872017\n",
      "\n",
      "top 3:\n",
      "neighbor = [ 0.62507323  0.65184664  1.06381321 -1.53810049 -0.14029532  1.01364623\n",
      "  0.18528485  0.0226172   0.11771915  0.08777791 -0.50787174 -1.73716936\n",
      " -1.02854233  0.16894379 -0.76239505 -2.26023546]\n",
      "dist = 3.2674043491121405\n",
      "\n",
      "top 4:\n",
      "neighbor = [-0.2143315   1.03290702  0.11692843  0.60510131 -0.28401206  1.30303073\n",
      " -0.65291775 -0.80419847 -1.31714793  0.29695359 -0.13561754  0.84169419\n",
      " -0.4736822  -1.57655737  0.0424373  -0.89523907]\n",
      "dist = 3.3863724337304166\n",
      "\n",
      "top 5:\n",
      "neighbor = [ 0.35903809 -0.21348963  1.07878313  0.65185984  0.1173584   0.20223162\n",
      " -0.28008264 -0.34814262  0.36218495 -0.55756653 -0.86449782  0.5983379\n",
      " -0.19086241  0.14229764 -1.86871093 -0.09926336]\n",
      "dist = 3.4179111585451505\n",
      "\n"
     ]
    }
   ],
   "source": [
    "neighbors, dists = knn_search(q, X)\n",
    "\n",
    "print(\"query =\", q)\n",
    "print()\n",
    "\n",
    "for i, (neighbor, dist) in enumerate(zip(neighbors, dists)):\n",
    "    print(f\"top {i + 1}:\")\n",
    "    print(\"neighbor =\", neighbor)\n",
    "    print(\"dist =\", dist)\n",
    "    print()"
   ]
  },
  {
   "cell_type": "markdown",
   "metadata": {},
   "source": [
    "## Approximate k-NN search"
   ]
  },
  {
   "cell_type": "code",
   "execution_count": 7,
   "metadata": {},
   "outputs": [],
   "source": [
    "def locality_sensitive_hash(data, hyperplanes):\n",
    "    b = hyperplanes.shape[0]                  # number of hyperplanes (i.e., number of bits in each code)\n",
    "    hamm_codes = (data @ hyperplanes.T) >= 0  # hamming codes\n",
    "    hash_vals = hamm_codes @ np.array([2 ** i for i in range(b)], dtype=int)\n",
    "    hash_table = {}\n",
    "    for i, v in enumerate(hash_vals):\n",
    "        if v not in hash_table:\n",
    "            hash_table[v] = []\n",
    "        hash_table[v].append(i)\n",
    "    return hash_table"
   ]
  },
  {
   "cell_type": "code",
   "execution_count": 8,
   "metadata": {
    "scrolled": false
   },
   "outputs": [
    {
     "name": "stdout",
     "output_type": "stream",
     "text": [
      "5 111\n",
      "7 143\n",
      "2 94\n",
      "1 144\n",
      "6 137\n",
      "0 159\n",
      "4 106\n",
      "3 106\n"
     ]
    }
   ],
   "source": [
    "hyperplanes = rs.normal(size=(3, X.shape[1]))  # hyperplanes represented as their normal vectors\n",
    "hash_table = locality_sensitive_hash(X, hyperplanes)\n",
    "\n",
    "for k, v in hash_table.items():\n",
    "    print(k, len(v))"
   ]
  },
  {
   "cell_type": "code",
   "execution_count": null,
   "metadata": {},
   "outputs": [],
   "source": [
    "def approx_knn_search(query, data, k=5):\n",
    "    hyperplanes = "
   ]
  }
 ],
 "metadata": {
  "kernelspec": {
   "display_name": "Python 3",
   "language": "python",
   "name": "python3"
  },
  "language_info": {
   "codemirror_mode": {
    "name": "ipython",
    "version": 3
   },
   "file_extension": ".py",
   "mimetype": "text/x-python",
   "name": "python",
   "nbconvert_exporter": "python",
   "pygments_lexer": "ipython3",
   "version": "3.8.5"
  }
 },
 "nbformat": 4,
 "nbformat_minor": 4
}
