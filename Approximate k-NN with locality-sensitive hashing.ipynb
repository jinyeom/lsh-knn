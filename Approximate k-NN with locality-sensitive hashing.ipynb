{
 "cells": [
  {
   "cell_type": "markdown",
   "metadata": {},
   "source": [
    "# Approximate k-NN with locality-sensitive hashing"
   ]
  },
  {
   "cell_type": "code",
   "execution_count": 1,
   "metadata": {},
   "outputs": [],
   "source": [
    "import numpy as np"
   ]
  },
  {
   "cell_type": "code",
   "execution_count": 2,
   "metadata": {},
   "outputs": [],
   "source": [
    "rng = np.random.default_rng(0)"
   ]
  },
  {
   "cell_type": "code",
   "execution_count": 3,
   "metadata": {},
   "outputs": [],
   "source": [
    "m = 10000  # number of data points in the\n",
    "n = 128    # number of features in each data point"
   ]
  },
  {
   "cell_type": "code",
   "execution_count": 4,
   "metadata": {},
   "outputs": [],
   "source": [
    "X = rng.normal(size=(m, n))  # random dataset\n",
    "q = rng.normal(size=n)       # query vector"
   ]
  },
  {
   "cell_type": "markdown",
   "metadata": {},
   "source": [
    "## Vanilla k-NN search"
   ]
  },
  {
   "cell_type": "code",
   "execution_count": 5,
   "metadata": {},
   "outputs": [],
   "source": [
    "def knn_search(query, data, k=5, debug=False):\n",
    "    assert k <= len(data)\n",
    "    dists = np.sqrt(np.sum((data - query) ** 2, axis=1))  # euclidean distance\n",
    "    if debug:\n",
    "        print(\"[DEBUG] max dist =\", np.max(dists))\n",
    "        print(\"[DEBUG] min dist =\", np.min(dists))\n",
    "        print(\"[DEBUG] mean dist =\", np.mean(dists))\n",
    "    inds = np.argsort(dists)  # sorted in ascending order\n",
    "    inds_k = inds[:k]         # top k closest data points\n",
    "    # NOTE: optionally, if the argumet dataset has a set of labels, we can also\n",
    "    # associate the query vector with a label (i.e., classification).\n",
    "    return data[inds_k], dists[inds_k]"
   ]
  },
  {
   "cell_type": "code",
   "execution_count": 6,
   "metadata": {
    "scrolled": true
   },
   "outputs": [
    {
     "name": "stdout",
     "output_type": "stream",
     "text": [
      "[DEBUG] max dist = 19.576730097361967\n",
      "[DEBUG] min dist = 12.72876479759339\n",
      "[DEBUG] mean dist = 16.136399135895942\n",
      "top 1: dist = 12.72876479759339\n",
      "top 2: dist = 12.980832845009397\n",
      "top 3: dist = 13.109098301375685\n",
      "top 4: dist = 13.178447300861382\n",
      "top 5: dist = 13.248307679497904\n"
     ]
    }
   ],
   "source": [
    "neighbors, dists = knn_search(q, X, debug=True)\n",
    "for i, (neighbor, dist) in enumerate(zip(neighbors, dists)):\n",
    "    print(f\"top {i + 1}: dist = {dist}\")"
   ]
  },
  {
   "cell_type": "markdown",
   "metadata": {},
   "source": [
    "## Approximate k-NN search"
   ]
  },
  {
   "cell_type": "code",
   "execution_count": 7,
   "metadata": {},
   "outputs": [],
   "source": [
    "def hamming_hash(data, hyperplanes):\n",
    "    b = hyperplanes.shape[0]\n",
    "    hash_key = (data @ hyperplanes.T) >= 0\n",
    "    bin_vals = np.array([2 ** i for i in range(b)], dtype=int)\n",
    "    hash_key = hash_key @ bin_vals\n",
    "    return hash_key"
   ]
  },
  {
   "cell_type": "code",
   "execution_count": 8,
   "metadata": {},
   "outputs": [],
   "source": [
    "def generate_hyperplanes(data, bucket_size=16):\n",
    "    m = data.shape[0]            # number of data points\n",
    "    n = data.shape[1]            # number of features in a data point\n",
    "    b = m // bucket_size         # desired number of hash buckets\n",
    "    h = int(np.log2(b))          # desired number of hyperplanes\n",
    "    H = rng.normal(size=(h, n))  # hyperplanes as their normal vectors\n",
    "    return H"
   ]
  },
  {
   "cell_type": "code",
   "execution_count": 9,
   "metadata": {},
   "outputs": [],
   "source": [
    "def locality_sensitive_hash(data, hyperplanes):\n",
    "    hash_vals = hamming_hash(data, hyperplanes)\n",
    "    hash_table = {}\n",
    "    for i, v in enumerate(hash_vals):\n",
    "        if v not in hash_table:\n",
    "            hash_table[v] = set()\n",
    "        hash_table[v].add(i)\n",
    "    return hash_table"
   ]
  },
  {
   "cell_type": "code",
   "execution_count": 10,
   "metadata": {
    "scrolled": true
   },
   "outputs": [
    {
     "name": "stdout",
     "output_type": "stream",
     "text": [
      "avg_bucket_size = 19.53125\n"
     ]
    }
   ],
   "source": [
    "hyperplanes = generate_hyperplanes(X)\n",
    "hash_table = locality_sensitive_hash(X, hyperplanes)\n",
    "avg_bucket_size = np.mean([len(v) for v in hash_table.values()])\n",
    "print(\"avg_bucket_size =\", avg_bucket_size)"
   ]
  },
  {
   "cell_type": "code",
   "execution_count": 11,
   "metadata": {},
   "outputs": [],
   "source": [
    "def approx_knn_search(query, data, k=5, bucket_size=16, repeat=10, debug=False):\n",
    "    candidates = set()\n",
    "    for i in range(repeat):\n",
    "        hyperplanes = generate_hyperplanes(data)\n",
    "        hash_table = locality_sensitive_hash(data, hyperplanes)\n",
    "        if debug:\n",
    "            avg_bucket_size = np.mean([len(v) for v in hash_table.values()])\n",
    "            print(f\"[DEBUG] i = {i}, avg_bucket_size = {avg_bucket_size}\")\n",
    "        query_hash = hamming_hash(query, hyperplanes)\n",
    "        if query_hash in hash_table:\n",
    "            candidates = candidates.union(hash_table[query_hash])\n",
    "    candidates = np.stack([data[i] for i in candidates], axis=0)\n",
    "    return knn_search(query, candidates, k=k, debug=debug)"
   ]
  },
  {
   "cell_type": "code",
   "execution_count": 12,
   "metadata": {},
   "outputs": [
    {
     "name": "stdout",
     "output_type": "stream",
     "text": [
      "[DEBUG] i = 0, avg_bucket_size = 19.53125\n",
      "[DEBUG] i = 1, avg_bucket_size = 19.53125\n",
      "[DEBUG] i = 2, avg_bucket_size = 19.53125\n",
      "[DEBUG] i = 3, avg_bucket_size = 19.53125\n",
      "[DEBUG] i = 4, avg_bucket_size = 19.53125\n",
      "[DEBUG] i = 5, avg_bucket_size = 19.53125\n",
      "[DEBUG] i = 6, avg_bucket_size = 19.53125\n",
      "[DEBUG] i = 7, avg_bucket_size = 19.53125\n",
      "[DEBUG] i = 8, avg_bucket_size = 19.53125\n",
      "[DEBUG] i = 9, avg_bucket_size = 19.53125\n",
      "[DEBUG] i = 10, avg_bucket_size = 19.53125\n",
      "[DEBUG] i = 11, avg_bucket_size = 19.53125\n",
      "[DEBUG] i = 12, avg_bucket_size = 19.53125\n",
      "[DEBUG] i = 13, avg_bucket_size = 19.569471624266146\n",
      "[DEBUG] i = 14, avg_bucket_size = 19.53125\n",
      "[DEBUG] i = 15, avg_bucket_size = 19.53125\n",
      "[DEBUG] i = 16, avg_bucket_size = 19.53125\n",
      "[DEBUG] i = 17, avg_bucket_size = 19.53125\n",
      "[DEBUG] i = 18, avg_bucket_size = 19.53125\n",
      "[DEBUG] i = 19, avg_bucket_size = 19.53125\n",
      "[DEBUG] i = 20, avg_bucket_size = 19.53125\n",
      "[DEBUG] i = 21, avg_bucket_size = 19.53125\n",
      "[DEBUG] i = 22, avg_bucket_size = 19.53125\n",
      "[DEBUG] i = 23, avg_bucket_size = 19.53125\n",
      "[DEBUG] max dist = 18.035577554152816\n",
      "[DEBUG] min dist = 12.980832845009397\n",
      "[DEBUG] mean dist = 15.752405187018653\n",
      "top 1: dist = 12.980832845009397\n",
      "top 2: dist = 13.315716707872218\n",
      "top 3: dist = 13.599262272317079\n",
      "top 4: dist = 13.77326305995105\n",
      "top 5: dist = 13.810928200015331\n"
     ]
    }
   ],
   "source": [
    "neighbors, dists = approx_knn_search(q, X, repeat=24, debug=True)\n",
    "for i, (neighbor, dist) in enumerate(zip(neighbors, dists)):\n",
    "    print(f\"top {i + 1}: dist = {dist}\")"
   ]
  }
 ],
 "metadata": {
  "kernelspec": {
   "display_name": "Python 3",
   "language": "python",
   "name": "python3"
  },
  "language_info": {
   "codemirror_mode": {
    "name": "ipython",
    "version": 3
   },
   "file_extension": ".py",
   "mimetype": "text/x-python",
   "name": "python",
   "nbconvert_exporter": "python",
   "pygments_lexer": "ipython3",
   "version": "3.8.5"
  }
 },
 "nbformat": 4,
 "nbformat_minor": 4
}
